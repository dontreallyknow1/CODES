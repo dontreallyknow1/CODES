{
  "cells": [
    {
      "cell_type": "code",
      "execution_count": 1,
      "metadata": {
        "colab": {
          "base_uri": "https://localhost:8080/"
        },
        "id": "Za6-HEr3oeOS",
        "outputId": "4524d13e-8792-4707-dc0e-5517a45b5fb9"
      },
      "outputs": [
        {
          "name": "stdout",
          "output_type": "stream",
          "text": [
            "Requirement already satisfied: scikit-learn in c:\\users\\dixit\\appdata\\local\\programs\\python\\python310\\lib\\site-packages (1.2.0)\n",
            "Requirement already satisfied: joblib>=1.1.1 in c:\\users\\dixit\\appdata\\local\\programs\\python\\python310\\lib\\site-packages (from scikit-learn) (1.2.0)\n",
            "Requirement already satisfied: scipy>=1.3.2 in c:\\users\\dixit\\appdata\\local\\programs\\python\\python310\\lib\\site-packages (from scikit-learn) (1.9.3)\n",
            "Requirement already satisfied: threadpoolctl>=2.0.0 in c:\\users\\dixit\\appdata\\local\\programs\\python\\python310\\lib\\site-packages (from scikit-learn) (3.1.0)\n",
            "Requirement already satisfied: numpy>=1.17.3 in c:\\users\\dixit\\appdata\\local\\programs\\python\\python310\\lib\\site-packages (from scikit-learn) (1.24.1)\n",
            "Note: you may need to restart the kernel to use updated packages.\n"
          ]
        }
      ],
      "source": [
        "pip install scikit-learn"
      ]
    },
    {
      "cell_type": "code",
      "execution_count": 2,
      "metadata": {
        "colab": {
          "base_uri": "https://localhost:8080/"
        },
        "id": "GLZQX_AwoBDZ",
        "outputId": "9f10a74f-59dc-4e08-af3a-c9f065a7c1e6"
      },
      "outputs": [
        {
          "name": "stdout",
          "output_type": "stream",
          "text": [
            "2.11.0\n"
          ]
        }
      ],
      "source": [
        "FILE_NAME = 'NIfty50.csv'\n",
        "\n",
        "from sklearn.preprocessing import MinMaxScaler\n",
        "\n",
        "import pandas as pd\n",
        "import matplotlib.pyplot as plt\n",
        "import tensorflow as tf\n",
        "import numpy as np\n",
        "import math\n",
        "import datetime\n",
        "\n",
        "%load_ext tensorboard\n",
        "print(tf.version.VERSION)"
      ]
    },
    {
      "cell_type": "code",
      "execution_count": 3,
      "metadata": {
        "id": "WYrDiAETZL7S"
      },
      "outputs": [],
      "source": [
        "# split dataset 80% train, 15% validation, 5% dev\n",
        "def split_dataset(dataset):\n",
        "    size = dataset.shape[0]\n",
        "    train_size = size * 80 // 100\n",
        "    test_size = size * 15 // 100\n",
        "    \n",
        "    return dataset[0:train_size, :], dataset[train_size:(train_size + test_size), :], dataset[(train_size + test_size):size, :]\n",
        "\n",
        "def plot_series(time, series, lab, form='-', start=0, end=None):\n",
        "    plt.plot(time[start:end], series[start:end], form, label=lab)\n",
        "    plt.xlabel(\"Minute\")\n",
        "    plt.ylabel(\"Price\")\n",
        "    plt.grid(True)\n",
        "\n",
        "def tf_dataset(series_x, series_y, batch_size, shuffle_buffer, shuffle=True):\n",
        "    ds = tf.data.Dataset.from_tensor_slices((series_x, series_y))\n",
        "    if shuffle:\n",
        "        ds = ds.cache().shuffle(shuffle_buffer).batch(batch_size).repeat()\n",
        "    else:\n",
        "        ds = ds.cache().batch(batch_size).repeat()\n",
        "\n",
        "    return ds\n",
        "\n",
        "def create_window_dataset(ds, lb, window_size):\n",
        "    windowed_dataset = []\n",
        "    labels = []\n",
        "    for i in range(window_size, ds.shape[0] + 1):\n",
        "        windowed_dataset.append(ds[i - window_size:i])\n",
        "        labels.append(lb[i - 1])\n",
        "        \n",
        "    return np.array(windowed_dataset), np.array(labels)\n",
        "\n",
        "def get_metrics_result(metrics, true_labels, predicted_labels):    \n",
        "    metrics_result = []\n",
        "    for metric in metrics:\n",
        "        metric.reset_states()\n",
        "        metric.update_state(true_labels, predicted_labels)\n",
        "        metrics_result.append(metric.result().numpy())\n",
        "    \n",
        "    return metrics_result"
      ]
    },
    {
      "cell_type": "code",
      "execution_count": 4,
      "metadata": {
        "colab": {
          "base_uri": "https://localhost:8080/",
          "height": 206
        },
        "id": "S_cFn5uIZTkB",
        "outputId": "4019ec1f-9d8a-421a-f786-a098b11c0aa1"
      },
      "outputs": [
        {
          "data": {
            "text/html": [
              "<div>\n",
              "<style scoped>\n",
              "    .dataframe tbody tr th:only-of-type {\n",
              "        vertical-align: middle;\n",
              "    }\n",
              "\n",
              "    .dataframe tbody tr th {\n",
              "        vertical-align: top;\n",
              "    }\n",
              "\n",
              "    .dataframe thead th {\n",
              "        text-align: right;\n",
              "    }\n",
              "</style>\n",
              "<table border=\"1\" class=\"dataframe\">\n",
              "  <thead>\n",
              "    <tr style=\"text-align: right;\">\n",
              "      <th></th>\n",
              "      <th>Date</th>\n",
              "      <th>Index</th>\n",
              "      <th>Open</th>\n",
              "      <th>High</th>\n",
              "      <th>Low</th>\n",
              "      <th>Close</th>\n",
              "      <th>Volume</th>\n",
              "      <th>Currency</th>\n",
              "    </tr>\n",
              "  </thead>\n",
              "  <tbody>\n",
              "    <tr>\n",
              "      <th>0</th>\n",
              "      <td>01-01-1997</td>\n",
              "      <td>NIFTY 50</td>\n",
              "      <td>905.20</td>\n",
              "      <td>941.40</td>\n",
              "      <td>905.20</td>\n",
              "      <td>939.55</td>\n",
              "      <td>38948000</td>\n",
              "      <td>INR</td>\n",
              "    </tr>\n",
              "    <tr>\n",
              "      <th>1</th>\n",
              "      <td>02-01-1997</td>\n",
              "      <td>NIFTY 50</td>\n",
              "      <td>941.95</td>\n",
              "      <td>944.00</td>\n",
              "      <td>925.05</td>\n",
              "      <td>927.05</td>\n",
              "      <td>49118000</td>\n",
              "      <td>INR</td>\n",
              "    </tr>\n",
              "    <tr>\n",
              "      <th>2</th>\n",
              "      <td>03-01-1997</td>\n",
              "      <td>NIFTY 50</td>\n",
              "      <td>924.30</td>\n",
              "      <td>932.60</td>\n",
              "      <td>919.55</td>\n",
              "      <td>931.65</td>\n",
              "      <td>35264000</td>\n",
              "      <td>INR</td>\n",
              "    </tr>\n",
              "    <tr>\n",
              "      <th>3</th>\n",
              "      <td>06-01-1997</td>\n",
              "      <td>NIFTY 50</td>\n",
              "      <td>932.45</td>\n",
              "      <td>937.95</td>\n",
              "      <td>925.65</td>\n",
              "      <td>927.80</td>\n",
              "      <td>26324000</td>\n",
              "      <td>INR</td>\n",
              "    </tr>\n",
              "    <tr>\n",
              "      <th>4</th>\n",
              "      <td>07-01-1997</td>\n",
              "      <td>NIFTY 50</td>\n",
              "      <td>926.35</td>\n",
              "      <td>935.15</td>\n",
              "      <td>922.25</td>\n",
              "      <td>928.80</td>\n",
              "      <td>44473000</td>\n",
              "      <td>INR</td>\n",
              "    </tr>\n",
              "  </tbody>\n",
              "</table>\n",
              "</div>"
            ],
            "text/plain": [
              "         Date     Index    Open    High     Low   Close    Volume Currency\n",
              "0  01-01-1997  NIFTY 50  905.20  941.40  905.20  939.55  38948000      INR\n",
              "1  02-01-1997  NIFTY 50  941.95  944.00  925.05  927.05  49118000      INR\n",
              "2  03-01-1997  NIFTY 50  924.30  932.60  919.55  931.65  35264000      INR\n",
              "3  06-01-1997  NIFTY 50  932.45  937.95  925.65  927.80  26324000      INR\n",
              "4  07-01-1997  NIFTY 50  926.35  935.15  922.25  928.80  44473000      INR"
            ]
          },
          "execution_count": 4,
          "metadata": {},
          "output_type": "execute_result"
        }
      ],
      "source": [
        "data = pd.read_csv(FILE_NAME, sep=',')\n",
        "data.head()"
      ]
    },
    {
      "cell_type": "code",
      "execution_count": 5,
      "metadata": {
        "id": "Z3OJnV5qZWVR"
      },
      "outputs": [],
      "source": [
        "df1=data.reset_index()['Close']"
      ]
    },
    {
      "cell_type": "code",
      "execution_count": 6,
      "metadata": {
        "colab": {
          "base_uri": "https://localhost:8080/"
        },
        "id": "jC7DDsocexuj",
        "outputId": "ad50a3b5-465a-4e68-c91f-b5d4fd1faadc"
      },
      "outputs": [
        {
          "data": {
            "text/plain": [
              "0         939.55\n",
              "1         927.05\n",
              "2         931.65\n",
              "3         927.80\n",
              "4         928.80\n",
              "          ...   \n",
              "6236    17149.10\n",
              "6237    17277.95\n",
              "6238    17110.15\n",
              "6239    17101.95\n",
              "6240    17316.65\n",
              "Name: Close, Length: 6241, dtype: float64"
            ]
          },
          "execution_count": 6,
          "metadata": {},
          "output_type": "execute_result"
        }
      ],
      "source": [
        "df1"
      ]
    },
    {
      "cell_type": "code",
      "execution_count": 7,
      "metadata": {
        "colab": {
          "base_uri": "https://localhost:8080/",
          "height": 282
        },
        "id": "RnyGoD3Be23H",
        "outputId": "6ec2cc7b-aa95-4c75-a64b-eafc9f466578"
      },
      "outputs": [
        {
          "data": {
            "text/plain": [
              "[<matplotlib.lines.Line2D at 0x202cde4cc10>]"
            ]
          },
          "execution_count": 7,
          "metadata": {},
          "output_type": "execute_result"
        },
        {
          "data": {
            "image/png": "[encoded data removed]",
            "text/plain": [
              "<Figure size 432x288 with 1 Axes>"
            ]
          },
          "metadata": {
            "needs_background": "light"
          },
          "output_type": "display_data"
        }
      ],
      "source": [
        "import matplotlib.pyplot as plt\n",
        "plt.plot(df1)"
      ]
    },
    {
      "cell_type": "code",
      "execution_count": 8,
      "metadata": {
        "id": "TaUEa1-3e7b1"
      },
      "outputs": [],
      "source": [
        "from sklearn.preprocessing import MinMaxScaler\n",
        "scaler=MinMaxScaler(feature_range=(0,1))\n",
        "df1=scaler.fit_transform(np.array(df1).reshape(-1,1))"
      ]
    },
    {
      "cell_type": "code",
      "execution_count": 9,
      "metadata": {
        "colab": {
          "base_uri": "https://localhost:8080/"
        },
        "id": "dkbRV9y7fDrg",
        "outputId": "82efa539-f69c-4c1d-c143-01b66a0093c0"
      },
      "outputs": [
        {
          "name": "stdout",
          "output_type": "stream",
          "text": [
            "[[0.0074059 ]\n",
            " [0.00669842]\n",
            " [0.00695877]\n",
            " ...\n",
            " [0.92263567]\n",
            " [0.92217157]\n",
            " [0.93432324]]\n"
          ]
        }
      ],
      "source": [
        "print(df1)"
      ]
    },
    {
      "cell_type": "code",
      "execution_count": 10,
      "metadata": {
        "id": "UwM5iZkIfGgw"
      },
      "outputs": [],
      "source": [
        "training_size=int(len(df1)*0.65)\n",
        "test_size=len(df1)-training_size\n",
        "train_data,test_data=df1[0:training_size,:],df1[training_size:len(df1),:1]"
      ]
    },
    {
      "cell_type": "code",
      "execution_count": 11,
      "metadata": {
        "colab": {
          "base_uri": "https://localhost:8080/"
        },
        "id": "ggnKW6aYfLqn",
        "outputId": "06b488f6-5c76-452f-8225-3fafabbe86ee"
      },
      "outputs": [
        {
          "data": {
            "text/plain": [
              "(4056, 2185)"
            ]
          },
          "execution_count": 11,
          "metadata": {},
          "output_type": "execute_result"
        }
      ],
      "source": [
        "training_size,test_size"
      ]
    },
    {
      "cell_type": "code",
      "execution_count": 12,
      "metadata": {
        "id": "Pfg-tWAtfMPz"
      },
      "outputs": [],
      "source": [
        "import numpy\n",
        "# convert an array of values into a dataset matrix\n",
        "def create_dataset(dataset, time_step=1):\n",
        "\tdataX, dataY = [], []\n",
        "\tfor i in range(len(dataset)-time_step-1):\n",
        "\t\ta = dataset[i:(i+time_step), 0]   ###i=0, 0,1,2,3-----99   100 \n",
        "\t\tdataX.append(a)\n",
        "\t\tdataY.append(dataset[i + time_step, 0])\n",
        "\treturn numpy.array(dataX), numpy.array(dataY)"
      ]
    },
    {
      "cell_type": "code",
      "execution_count": 13,
      "metadata": {
        "id": "c2-m_RdXfYV6"
      },
      "outputs": [],
      "source": [
        "time_step = 100\n",
        "X_train, y_train = create_dataset(train_data, time_step)\n",
        "X_test, ytest = create_dataset(test_data, time_step)"
      ]
    },
    {
      "cell_type": "code",
      "execution_count": 14,
      "metadata": {
        "colab": {
          "base_uri": "https://localhost:8080/"
        },
        "id": "5Jw42icYfavb",
        "outputId": "4a385a95-2388-4d70-8fd0-6771f7304451"
      },
      "outputs": [
        {
          "name": "stdout",
          "output_type": "stream",
          "text": [
            "(3955, 100)\n",
            "(3955,)\n"
          ]
        },
        {
          "data": {
            "text/plain": [
              "(None, None)"
            ]
          },
          "execution_count": 14,
          "metadata": {},
          "output_type": "execute_result"
        }
      ],
      "source": [
        "print(X_train.shape), print(y_train.shape)"
      ]
    },
    {
      "cell_type": "code",
      "execution_count": 15,
      "metadata": {
        "colab": {
          "base_uri": "https://localhost:8080/"
        },
        "id": "OnCW4gpBfckN",
        "outputId": "421afd7e-77de-4c9f-d9e1-30409db0eb5c"
      },
      "outputs": [
        {
          "name": "stdout",
          "output_type": "stream",
          "text": [
            "(2084, 100)\n",
            "(2084,)\n"
          ]
        },
        {
          "data": {
            "text/plain": [
              "(None, None)"
            ]
          },
          "execution_count": 15,
          "metadata": {},
          "output_type": "execute_result"
        }
      ],
      "source": [
        "print(X_test.shape), print(ytest.shape)"
      ]
    },
    {
      "cell_type": "code",
      "execution_count": 16,
      "metadata": {
        "id": "-6TDOtyKfhCG"
      },
      "outputs": [],
      "source": [
        "# reshape input to be [samples, time steps, features] which is required for LSTM\n",
        "X_train =X_train.reshape(X_train.shape[0],X_train.shape[1] , 1)\n",
        "X_test = X_test.reshape(X_test.shape[0],X_test.shape[1] , 1)"
      ]
    },
    {
      "cell_type": "code",
      "execution_count": 17,
      "metadata": {
        "id": "rdF_RLe-fmxI"
      },
      "outputs": [],
      "source": [
        "### Create the Stacked LSTM model\n",
        "from tensorflow.keras.models import Sequential\n",
        "from tensorflow.keras.layers import Dense\n",
        "from tensorflow.keras.layers import LSTM"
      ]
    },
    {
      "cell_type": "code",
      "execution_count": 18,
      "metadata": {
        "id": "4Qf0ARCpfqTR"
      },
      "outputs": [],
      "source": [
        "model=Sequential()\n",
        "model.add(LSTM(50,return_sequences=True,input_shape=(100,1)))\n",
        "model.add(LSTM(50,return_sequences=True))\n",
        "model.add(LSTM(50))\n",
        "model.add(Dense(1))\n",
        "model.compile(loss='mean_squared_error',optimizer='adam')"
      ]
    },
    {
      "cell_type": "code",
      "execution_count": 33,
      "metadata": {
        "colab": {
          "base_uri": "https://localhost:8080/"
        },
        "id": "N8IyqtsCfshn",
        "outputId": "06332ff7-01d1-43ab-baac-3fb696da610b"
      },
      "outputs": [
        {
          "name": "stdout",
          "output_type": "stream",
          "text": [
            "Model: \"sequential\"\n",
            "_________________________________________________________________\n",
            " Layer (type)                Output Shape              Param #   \n",
            "=================================================================\n",
            " lstm (LSTM)                 (None, 100, 50)           10400     \n",
            "                                                                 \n",
            " lstm_1 (LSTM)               (None, 100, 50)           20200     \n",
            "                                                                 \n",
            " lstm_2 (LSTM)               (None, 50)                20200     \n",
            "                                                                 \n",
            " dense (Dense)               (None, 1)                 51        \n",
            "                                                                 \n",
            "=================================================================\n",
            "Total params: 50,851\n",
            "Trainable params: 50,851\n",
            "Non-trainable params: 0\n",
            "_________________________________________________________________\n"
          ]
        }
      ],
      "source": [
        "model.summary()"
      ]
    },
    {
      "cell_type": "code",
      "execution_count": 20,
      "metadata": {
        "colab": {
          "base_uri": "https://localhost:8080/"
        },
        "id": "m0ihAssyf5LD",
        "outputId": "29158d37-4693-4ff4-f8ef-581efd10810e"
      },
      "outputs": [
        {
          "name": "stdout",
          "output_type": "stream",
          "text": [
            "Epoch 1/15\n",
            "62/62 [==============================] - 30s 391ms/step - loss: 0.0019 - val_loss: 0.0011\n",
            "Epoch 2/15\n",
            "62/62 [==============================] - 19s 308ms/step - loss: 9.0247e-05 - val_loss: 0.0018\n",
            "Epoch 3/15\n",
            "62/62 [==============================] - 18s 298ms/step - loss: 8.2323e-05 - val_loss: 0.0025\n",
            "Epoch 4/15\n",
            "62/62 [==============================] - 19s 304ms/step - loss: 7.8685e-05 - val_loss: 0.0030\n",
            "Epoch 5/15\n",
            "62/62 [==============================] - 20s 319ms/step - loss: 7.4218e-05 - val_loss: 0.0029\n",
            "Epoch 6/15\n",
            "62/62 [==============================] - 15s 236ms/step - loss: 7.3305e-05 - val_loss: 0.0025\n",
            "Epoch 7/15\n",
            "62/62 [==============================] - 20s 324ms/step - loss: 6.7003e-05 - val_loss: 0.0029\n",
            "Epoch 8/15\n",
            "62/62 [==============================] - 20s 319ms/step - loss: 6.4431e-05 - val_loss: 0.0027\n",
            "Epoch 9/15\n",
            "62/62 [==============================] - 16s 253ms/step - loss: 6.1149e-05 - val_loss: 0.0025\n",
            "Epoch 10/15\n",
            "62/62 [==============================] - 19s 306ms/step - loss: 5.6507e-05 - val_loss: 0.0020\n",
            "Epoch 11/15\n",
            "62/62 [==============================] - 14s 219ms/step - loss: 5.7296e-05 - val_loss: 0.0020\n",
            "Epoch 12/15\n",
            "62/62 [==============================] - 16s 261ms/step - loss: 5.3745e-05 - val_loss: 0.0022\n",
            "Epoch 13/15\n",
            "62/62 [==============================] - 20s 332ms/step - loss: 5.8756e-05 - val_loss: 0.0032\n",
            "Epoch 14/15\n",
            "62/62 [==============================] - 21s 338ms/step - loss: 5.1593e-05 - val_loss: 0.0020\n",
            "Epoch 15/15\n",
            "62/62 [==============================] - 18s 281ms/step - loss: 4.9395e-05 - val_loss: 7.6922e-04\n"
          ]
        },
        {
          "data": {
            "text/plain": [
              "<keras.callbacks.History at 0x202d16e4220>"
            ]
          },
          "execution_count": 20,
          "metadata": {},
          "output_type": "execute_result"
        }
      ],
      "source": [
        "model.fit(X_train,y_train,validation_data=(X_test,ytest),epochs=15,batch_size=64,verbose=1)\n"
      ]
    },
    {
      "cell_type": "code",
      "execution_count": 27,
      "metadata": {},
      "outputs": [
        {
          "name": "stdout",
          "output_type": "stream",
          "text": [
            "Epoch 1/20\n",
            "62/62 [==============================] - 14s 231ms/step - loss: 4.9531e-05 - val_loss: 0.0014\n",
            "Epoch 2/20\n",
            "62/62 [==============================] - 15s 245ms/step - loss: 4.9859e-05 - val_loss: 0.0012\n",
            "Epoch 3/20\n",
            "62/62 [==============================] - 14s 224ms/step - loss: 4.5007e-05 - val_loss: 8.0934e-04\n",
            "Epoch 4/20\n",
            "62/62 [==============================] - 14s 228ms/step - loss: 4.2129e-05 - val_loss: 0.0011\n",
            "Epoch 5/20\n",
            "62/62 [==============================] - 14s 228ms/step - loss: 4.2299e-05 - val_loss: 0.0013\n",
            "Epoch 6/20\n",
            "62/62 [==============================] - 18s 285ms/step - loss: 4.8829e-05 - val_loss: 0.0013\n",
            "Epoch 7/20\n",
            "62/62 [==============================] - 20s 318ms/step - loss: 4.1793e-05 - val_loss: 9.1658e-04\n",
            "Epoch 8/20\n",
            "62/62 [==============================] - 15s 251ms/step - loss: 3.9933e-05 - val_loss: 0.0017\n",
            "Epoch 9/20\n",
            "62/62 [==============================] - 15s 246ms/step - loss: 4.8504e-05 - val_loss: 5.5619e-04\n",
            "Epoch 10/20\n",
            "62/62 [==============================] - 16s 258ms/step - loss: 4.1191e-05 - val_loss: 6.1817e-04\n",
            "Epoch 11/20\n",
            "62/62 [==============================] - 15s 250ms/step - loss: 3.7158e-05 - val_loss: 9.8666e-04\n",
            "Epoch 12/20\n",
            "62/62 [==============================] - 15s 249ms/step - loss: 3.7874e-05 - val_loss: 0.0010\n",
            "Epoch 13/20\n",
            "62/62 [==============================] - 16s 251ms/step - loss: 4.1096e-05 - val_loss: 9.1047e-04\n",
            "Epoch 14/20\n",
            "62/62 [==============================] - 16s 254ms/step - loss: 3.8917e-05 - val_loss: 0.0010\n",
            "Epoch 15/20\n",
            "62/62 [==============================] - 15s 250ms/step - loss: 3.9273e-05 - val_loss: 0.0012\n",
            "Epoch 16/20\n",
            "62/62 [==============================] - 18s 292ms/step - loss: 3.9459e-05 - val_loss: 0.0011\n",
            "Epoch 17/20\n",
            "62/62 [==============================] - 15s 242ms/step - loss: 3.5443e-05 - val_loss: 4.7145e-04\n",
            "Epoch 18/20\n",
            "62/62 [==============================] - 14s 228ms/step - loss: 3.3265e-05 - val_loss: 8.8916e-04\n",
            "Epoch 19/20\n",
            "62/62 [==============================] - 15s 235ms/step - loss: 3.2642e-05 - val_loss: 9.6272e-04\n",
            "Epoch 20/20\n",
            "62/62 [==============================] - 18s 288ms/step - loss: 3.4130e-05 - val_loss: 5.3711e-04\n"
          ]
        },
        {
          "data": {
            "text/plain": [
              "<keras.callbacks.History at 0x202da9207c0>"
            ]
          },
          "execution_count": 27,
          "metadata": {},
          "output_type": "execute_result"
        }
      ],
      "source": [
        "model.fit(X_train,y_train,validation_data=(X_test,ytest),epochs=20,batch_size=64,verbose=1)"
      ]
    },
    {
      "cell_type": "code",
      "execution_count": 34,
      "metadata": {},
      "outputs": [
        {
          "name": "stdout",
          "output_type": "stream",
          "text": [
            "Epoch 1/30\n",
            "62/62 [==============================] - 14s 229ms/step - loss: 3.0985e-05 - val_loss: 7.1177e-04\n",
            "Epoch 2/30\n",
            "62/62 [==============================] - 17s 272ms/step - loss: 3.4037e-05 - val_loss: 4.9684e-04\n",
            "Epoch 3/30\n",
            "62/62 [==============================] - 15s 241ms/step - loss: 3.3013e-05 - val_loss: 7.0230e-04\n",
            "Epoch 4/30\n",
            "62/62 [==============================] - 15s 240ms/step - loss: 3.2726e-05 - val_loss: 4.5688e-04\n",
            "Epoch 5/30\n",
            "62/62 [==============================] - 15s 247ms/step - loss: 2.9113e-05 - val_loss: 7.0499e-04\n",
            "Epoch 6/30\n",
            "62/62 [==============================] - 15s 251ms/step - loss: 2.9576e-05 - val_loss: 7.3530e-04\n",
            "Epoch 7/30\n",
            "62/62 [==============================] - 15s 249ms/step - loss: 2.8639e-05 - val_loss: 0.0011\n",
            "Epoch 8/30\n",
            "62/62 [==============================] - 18s 287ms/step - loss: 2.7693e-05 - val_loss: 3.2717e-04\n",
            "Epoch 9/30\n",
            "62/62 [==============================] - 15s 248ms/step - loss: 2.8096e-05 - val_loss: 3.5942e-04\n",
            "Epoch 10/30\n",
            "62/62 [==============================] - 14s 227ms/step - loss: 2.6697e-05 - val_loss: 6.7894e-04\n",
            "Epoch 11/30\n",
            "62/62 [==============================] - 15s 247ms/step - loss: 2.6283e-05 - val_loss: 1.2561e-04\n",
            "Epoch 12/30\n",
            "62/62 [==============================] - 13s 211ms/step - loss: 3.0573e-05 - val_loss: 7.7553e-04\n",
            "Epoch 13/30\n",
            "62/62 [==============================] - 14s 223ms/step - loss: 3.6628e-05 - val_loss: 5.3990e-04\n",
            "Epoch 14/30\n",
            "62/62 [==============================] - 14s 224ms/step - loss: 2.7993e-05 - val_loss: 0.0010\n",
            "Epoch 15/30\n",
            "62/62 [==============================] - 15s 236ms/step - loss: 2.8951e-05 - val_loss: 5.3623e-04\n",
            "Epoch 16/30\n",
            "62/62 [==============================] - 17s 272ms/step - loss: 2.5385e-05 - val_loss: 4.2901e-04\n",
            "Epoch 17/30\n",
            "62/62 [==============================] - 16s 252ms/step - loss: 2.5634e-05 - val_loss: 4.9133e-04\n",
            "Epoch 18/30\n",
            "62/62 [==============================] - 15s 248ms/step - loss: 2.3559e-05 - val_loss: 4.5474e-04\n",
            "Epoch 19/30\n",
            "62/62 [==============================] - 16s 252ms/step - loss: 2.1905e-05 - val_loss: 3.0212e-04\n",
            "Epoch 20/30\n",
            "62/62 [==============================] - 16s 256ms/step - loss: 2.0581e-05 - val_loss: 8.2436e-05\n",
            "Epoch 21/30\n",
            "62/62 [==============================] - 16s 261ms/step - loss: 1.8617e-05 - val_loss: 1.9293e-04\n",
            "Epoch 22/30\n",
            "62/62 [==============================] - 16s 254ms/step - loss: 2.0114e-05 - val_loss: 3.3806e-04\n",
            "Epoch 23/30\n",
            "62/62 [==============================] - 16s 259ms/step - loss: 1.8018e-05 - val_loss: 8.0095e-05\n",
            "Epoch 24/30\n",
            "62/62 [==============================] - 18s 295ms/step - loss: 1.7567e-05 - val_loss: 1.0060e-04\n",
            "Epoch 25/30\n",
            "62/62 [==============================] - 14s 230ms/step - loss: 1.7557e-05 - val_loss: 1.2637e-04\n",
            "Epoch 26/30\n",
            "62/62 [==============================] - 15s 236ms/step - loss: 1.7449e-05 - val_loss: 1.2338e-04\n",
            "Epoch 27/30\n",
            "62/62 [==============================] - 14s 233ms/step - loss: 1.6447e-05 - val_loss: 1.8658e-04\n",
            "Epoch 28/30\n",
            "62/62 [==============================] - 14s 225ms/step - loss: 1.5716e-05 - val_loss: 1.6303e-04\n",
            "Epoch 29/30\n",
            "62/62 [==============================] - 15s 240ms/step - loss: 1.5212e-05 - val_loss: 8.3341e-05\n",
            "Epoch 30/30\n",
            "62/62 [==============================] - 14s 227ms/step - loss: 1.6015e-05 - val_loss: 3.5790e-04\n"
          ]
        },
        {
          "data": {
            "text/plain": [
              "<keras.callbacks.History at 0x202da8b85b0>"
            ]
          },
          "execution_count": 34,
          "metadata": {},
          "output_type": "execute_result"
        }
      ],
      "source": [
        "model.fit(X_train,y_train,validation_data=(X_test,ytest),epochs=30,batch_size=64,verbose=1)"
      ]
    },
    {
      "cell_type": "code",
      "execution_count": 41,
      "metadata": {},
      "outputs": [
        {
          "name": "stdout",
          "output_type": "stream",
          "text": [
            "Epoch 1/40\n",
            "62/62 [==============================] - 18s 275ms/step - loss: 1.3021e-05 - val_loss: 2.0661e-04\n",
            "Epoch 2/40\n",
            "62/62 [==============================] - 16s 265ms/step - loss: 1.2356e-05 - val_loss: 9.7219e-05\n",
            "Epoch 3/40\n",
            "62/62 [==============================] - 16s 264ms/step - loss: 1.2916e-05 - val_loss: 4.0943e-04\n",
            "Epoch 4/40\n",
            "62/62 [==============================] - 17s 270ms/step - loss: 1.5201e-05 - val_loss: 2.0383e-04\n",
            "Epoch 5/40\n",
            "62/62 [==============================] - 16s 266ms/step - loss: 1.3342e-05 - val_loss: 1.4835e-04\n",
            "Epoch 6/40\n",
            "62/62 [==============================] - 16s 267ms/step - loss: 1.2918e-05 - val_loss: 1.2104e-04\n",
            "Epoch 7/40\n",
            "62/62 [==============================] - 16s 259ms/step - loss: 1.3329e-05 - val_loss: 1.1462e-04\n",
            "Epoch 8/40\n",
            "62/62 [==============================] - 17s 272ms/step - loss: 1.2004e-05 - val_loss: 1.5504e-04\n",
            "Epoch 9/40\n",
            "62/62 [==============================] - 17s 272ms/step - loss: 1.1928e-05 - val_loss: 2.6538e-04\n",
            "Epoch 10/40\n",
            "62/62 [==============================] - 16s 257ms/step - loss: 1.2296e-05 - val_loss: 1.6144e-04\n",
            "Epoch 11/40\n",
            "62/62 [==============================] - 16s 259ms/step - loss: 1.1293e-05 - val_loss: 7.6529e-05\n",
            "Epoch 12/40\n",
            "62/62 [==============================] - 16s 255ms/step - loss: 1.2128e-05 - val_loss: 2.7100e-04\n",
            "Epoch 13/40\n",
            "62/62 [==============================] - 16s 260ms/step - loss: 1.1951e-05 - val_loss: 5.5368e-05\n",
            "Epoch 14/40\n",
            "62/62 [==============================] - 16s 256ms/step - loss: 1.2289e-05 - val_loss: 1.0712e-04\n",
            "Epoch 15/40\n",
            "62/62 [==============================] - 16s 255ms/step - loss: 1.4346e-05 - val_loss: 1.9608e-04\n",
            "Epoch 16/40\n",
            "62/62 [==============================] - 17s 268ms/step - loss: 1.0704e-05 - val_loss: 7.7130e-05\n",
            "Epoch 17/40\n",
            "62/62 [==============================] - 17s 281ms/step - loss: 1.0500e-05 - val_loss: 1.2021e-04\n",
            "Epoch 18/40\n",
            "62/62 [==============================] - 16s 263ms/step - loss: 9.8572e-06 - val_loss: 2.9989e-04\n",
            "Epoch 19/40\n",
            "62/62 [==============================] - 16s 262ms/step - loss: 1.0420e-05 - val_loss: 1.4607e-04\n",
            "Epoch 20/40\n",
            "62/62 [==============================] - 16s 262ms/step - loss: 1.1281e-05 - val_loss: 1.3724e-04\n",
            "Epoch 21/40\n",
            "62/62 [==============================] - 16s 265ms/step - loss: 1.0377e-05 - val_loss: 1.6516e-04\n",
            "Epoch 22/40\n",
            "62/62 [==============================] - 17s 280ms/step - loss: 1.0456e-05 - val_loss: 9.8438e-05\n",
            "Epoch 23/40\n",
            "62/62 [==============================] - 16s 254ms/step - loss: 1.1782e-05 - val_loss: 7.2476e-05\n",
            "Epoch 24/40\n",
            "62/62 [==============================] - 19s 304ms/step - loss: 1.0683e-05 - val_loss: 9.9070e-05\n",
            "Epoch 25/40\n",
            "62/62 [==============================] - 19s 311ms/step - loss: 1.2278e-05 - val_loss: 1.4952e-04\n",
            "Epoch 26/40\n",
            "62/62 [==============================] - 17s 277ms/step - loss: 1.0389e-05 - val_loss: 1.5959e-04\n",
            "Epoch 27/40\n",
            "62/62 [==============================] - 16s 258ms/step - loss: 1.0616e-05 - val_loss: 2.6978e-04\n",
            "Epoch 28/40\n",
            "62/62 [==============================] - 16s 258ms/step - loss: 1.0988e-05 - val_loss: 1.2123e-04\n",
            "Epoch 29/40\n",
            "62/62 [==============================] - 16s 255ms/step - loss: 1.0992e-05 - val_loss: 1.5201e-04\n",
            "Epoch 30/40\n",
            "62/62 [==============================] - 16s 258ms/step - loss: 1.4083e-05 - val_loss: 1.0643e-04\n",
            "Epoch 31/40\n",
            "62/62 [==============================] - 16s 255ms/step - loss: 1.0590e-05 - val_loss: 2.0129e-04\n",
            "Epoch 32/40\n",
            "62/62 [==============================] - 16s 257ms/step - loss: 1.0946e-05 - val_loss: 1.8525e-04\n",
            "Epoch 33/40\n",
            "62/62 [==============================] - 16s 258ms/step - loss: 1.0534e-05 - val_loss: 1.4260e-04\n",
            "Epoch 34/40\n",
            "62/62 [==============================] - 16s 259ms/step - loss: 1.0494e-05 - val_loss: 1.1427e-04\n",
            "Epoch 35/40\n",
            "62/62 [==============================] - 16s 263ms/step - loss: 1.0442e-05 - val_loss: 1.2004e-04\n",
            "Epoch 36/40\n",
            "62/62 [==============================] - 18s 287ms/step - loss: 1.1597e-05 - val_loss: 1.6233e-04\n",
            "Epoch 37/40\n",
            "62/62 [==============================] - 19s 305ms/step - loss: 1.1152e-05 - val_loss: 1.0820e-04\n",
            "Epoch 38/40\n",
            "62/62 [==============================] - 18s 291ms/step - loss: 1.1884e-05 - val_loss: 1.1380e-04\n",
            "Epoch 39/40\n",
            "62/62 [==============================] - 18s 291ms/step - loss: 9.9048e-06 - val_loss: 2.4724e-04\n",
            "Epoch 40/40\n",
            "62/62 [==============================] - 16s 265ms/step - loss: 1.0795e-05 - val_loss: 7.8723e-05\n"
          ]
        },
        {
          "data": {
            "text/plain": [
              "<keras.callbacks.History at 0x202da946140>"
            ]
          },
          "execution_count": 41,
          "metadata": {},
          "output_type": "execute_result"
        }
      ],
      "source": [
        "model.fit(X_train,y_train,validation_data=(X_test,ytest),epochs=40,batch_size=64,verbose=1)"
      ]
    },
    {
      "cell_type": "code",
      "execution_count": 21,
      "metadata": {
        "id": "W9swuca8f-YY"
      },
      "outputs": [],
      "source": [
        "import tensorflow as tf"
      ]
    },
    {
      "cell_type": "code",
      "execution_count": 22,
      "metadata": {
        "colab": {
          "base_uri": "https://localhost:8080/"
        },
        "id": "NJi3qjx9omMs",
        "outputId": "46ed9fbf-4115-43d9-dd4c-9cf665b3efa5"
      },
      "outputs": [
        {
          "name": "stdout",
          "output_type": "stream",
          "text": [
            "124/124 [==============================] - 8s 50ms/step\n",
            "66/66 [==============================] - 3s 50ms/step\n"
          ]
        }
      ],
      "source": [
        "### Lets Do the prediction and check performance metrics\n",
        "# for 15 epoch\n",
        "train_predict=model.predict(X_train)\n",
        "test_predict=model.predict(X_test)"
      ]
    },
    {
      "cell_type": "code",
      "execution_count": 28,
      "metadata": {},
      "outputs": [
        {
          "name": "stdout",
          "output_type": "stream",
          "text": [
            "124/124 [==============================] - 6s 44ms/step\n",
            "66/66 [==============================] - 3s 49ms/step\n"
          ]
        }
      ],
      "source": [
        "### Lets Do the prediction and check performance metrics\n",
        "# for 20 epoch\n",
        "train_predict=model.predict(X_train)\n",
        "test_predict=model.predict(X_test)"
      ]
    },
    {
      "cell_type": "code",
      "execution_count": 35,
      "metadata": {},
      "outputs": [
        {
          "name": "stdout",
          "output_type": "stream",
          "text": [
            "124/124 [==============================] - 5s 40ms/step\n",
            "66/66 [==============================] - 3s 49ms/step\n"
          ]
        }
      ],
      "source": [
        "### Lets Do the prediction and check performance metrics\n",
        "# for 30 epoch\n",
        "train_predict=model.predict(X_train)\n",
        "test_predict=model.predict(X_test)"
      ]
    },
    {
      "cell_type": "code",
      "execution_count": 42,
      "metadata": {},
      "outputs": [
        {
          "name": "stdout",
          "output_type": "stream",
          "text": [
            "124/124 [==============================] - 4s 34ms/step\n",
            "66/66 [==============================] - 3s 40ms/step\n"
          ]
        }
      ],
      "source": [
        "### Lets Do the prediction and check performance metrics\n",
        "# for 40 epoch\n",
        "train_predict=model.predict(X_train)\n",
        "test_predict=model.predict(X_test)"
      ]
    },
    {
      "cell_type": "code",
      "execution_count": 23,
      "metadata": {
        "id": "N3gNH9VTon6Q"
      },
      "outputs": [],
      "source": [
        "\n",
        "\n",
        "##Transformback to original form\n",
        "# for 15 epoch\n",
        "train_predict=scaler.inverse_transform(train_predict)\n",
        "test_predict=scaler.inverse_transform(test_predict)\n",
        "\n"
      ]
    },
    {
      "cell_type": "code",
      "execution_count": 29,
      "metadata": {},
      "outputs": [],
      "source": [
        "##Transformback to original form\n",
        "# for 20 epoch\n",
        "train_predict=scaler.inverse_transform(train_predict)\n",
        "test_predict=scaler.inverse_transform(test_predict)"
      ]
    },
    {
      "cell_type": "code",
      "execution_count": 36,
      "metadata": {},
      "outputs": [],
      "source": [
        "##Transformback to original form\n",
        "# for 30 epoch\n",
        "train_predict=scaler.inverse_transform(train_predict)\n",
        "test_predict=scaler.inverse_transform(test_predict)"
      ]
    },
    {
      "cell_type": "code",
      "execution_count": 43,
      "metadata": {},
      "outputs": [],
      "source": [
        "##Transformback to original form\n",
        "# for 30 epoch\n",
        "train_predict=scaler.inverse_transform(train_predict)\n",
        "test_predict=scaler.inverse_transform(test_predict)"
      ]
    },
    {
      "cell_type": "code",
      "execution_count": 24,
      "metadata": {
        "colab": {
          "base_uri": "https://localhost:8080/"
        },
        "id": "FmFm16TWpHbz",
        "outputId": "5ab61deb-4331-47ee-9bc3-74962b13fbdf"
      },
      "outputs": [
        {
          "data": {
            "text/plain": [
              "3514.8378307836997"
            ]
          },
          "execution_count": 24,
          "metadata": {},
          "output_type": "execute_result"
        }
      ],
      "source": [
        "### Calculate RMSE performance metrics\n",
        "# for 15 epoch\n",
        "import math\n",
        "from sklearn.metrics import mean_squared_error\n",
        "math.sqrt(mean_squared_error(y_train,train_predict))"
      ]
    },
    {
      "cell_type": "code",
      "execution_count": 30,
      "metadata": {},
      "outputs": [
        {
          "data": {
            "text/plain": [
              "3392.9206367433494"
            ]
          },
          "execution_count": 30,
          "metadata": {},
          "output_type": "execute_result"
        }
      ],
      "source": [
        "### Calculate RMSE performance metrics\n",
        "# for 20 epoch\n",
        "import math\n",
        "from sklearn.metrics import mean_squared_error\n",
        "math.sqrt(mean_squared_error(y_train,train_predict))"
      ]
    },
    {
      "cell_type": "code",
      "execution_count": 37,
      "metadata": {},
      "outputs": [
        {
          "data": {
            "text/plain": [
              "3375.9616831975436"
            ]
          },
          "execution_count": 37,
          "metadata": {},
          "output_type": "execute_result"
        }
      ],
      "source": [
        "### Calculate RMSE performance metrics\n",
        "# for 30 epoch\n",
        "import math\n",
        "from sklearn.metrics import mean_squared_error\n",
        "math.sqrt(mean_squared_error(y_train,train_predict))"
      ]
    },
    {
      "cell_type": "code",
      "execution_count": 44,
      "metadata": {},
      "outputs": [
        {
          "data": {
            "text/plain": [
              "3417.6635778296727"
            ]
          },
          "execution_count": 44,
          "metadata": {},
          "output_type": "execute_result"
        }
      ],
      "source": [
        "### Calculate RMSE performance metrics\n",
        "# for 40 epoch\n",
        "import math\n",
        "from sklearn.metrics import mean_squared_error\n",
        "math.sqrt(mean_squared_error(y_train,train_predict))"
      ]
    },
    {
      "cell_type": "code",
      "execution_count": 25,
      "metadata": {
        "colab": {
          "base_uri": "https://localhost:8080/"
        },
        "id": "0xOwgbYapJCQ",
        "outputId": "cd0765b6-58f4-4464-b23c-2735e9509aa3"
      },
      "outputs": [
        {
          "data": {
            "text/plain": [
              "10316.3058187726"
            ]
          },
          "execution_count": 25,
          "metadata": {},
          "output_type": "execute_result"
        }
      ],
      "source": [
        "### Test Data RMSE\n",
        "# for 15 epoch\n",
        "math.sqrt(mean_squared_error(ytest,test_predict))"
      ]
    },
    {
      "cell_type": "code",
      "execution_count": 31,
      "metadata": {},
      "outputs": [
        {
          "data": {
            "text/plain": [
              "10298.0283314804"
            ]
          },
          "execution_count": 31,
          "metadata": {},
          "output_type": "execute_result"
        }
      ],
      "source": [
        "### Test Data RMSE\n",
        "# for 20 epoch\n",
        "math.sqrt(mean_squared_error(ytest,test_predict))"
      ]
    },
    {
      "cell_type": "code",
      "execution_count": 39,
      "metadata": {},
      "outputs": [
        {
          "data": {
            "text/plain": [
              "10319.696399558803"
            ]
          },
          "execution_count": 39,
          "metadata": {},
          "output_type": "execute_result"
        }
      ],
      "source": [
        "### Test Data RMSE\n",
        "# for 30 epoch\n",
        "math.sqrt(mean_squared_error(ytest,test_predict))"
      ]
    },
    {
      "cell_type": "code",
      "execution_count": 45,
      "metadata": {},
      "outputs": [
        {
          "data": {
            "text/plain": [
              "10598.792374635283"
            ]
          },
          "execution_count": 45,
          "metadata": {},
          "output_type": "execute_result"
        }
      ],
      "source": [
        "### Test Data RMSE\n",
        "# for 40 epoch\n",
        "math.sqrt(mean_squared_error(ytest,test_predict))"
      ]
    },
    {
      "cell_type": "code",
      "execution_count": 26,
      "metadata": {
        "colab": {
          "base_uri": "https://localhost:8080/",
          "height": 265
        },
        "id": "8Y-X1E0HpKsz",
        "outputId": "c1b38a97-385f-4893-8271-dacf83bc567f"
      },
      "outputs": [
        {
          "data": {
            "image/png": "[encoded data removed]",
            "text/plain": [
              "<Figure size 432x288 with 1 Axes>"
            ]
          },
          "metadata": {
            "needs_background": "light"
          },
          "output_type": "display_data"
        }
      ],
      "source": [
        "### Plotting \n",
        "# for 15 epoch\n",
        "# shift train predictions for plotting\n",
        "look_back=100\n",
        "trainPredictPlot = numpy.empty_like(df1)\n",
        "trainPredictPlot[:, :] = np.nan\n",
        "trainPredictPlot[look_back:len(train_predict)+look_back, :] = train_predict\n",
        "# shift test predictions for plotting\n",
        "testPredictPlot = numpy.empty_like(df1)\n",
        "testPredictPlot[:, :] = numpy.nan\n",
        "testPredictPlot[len(train_predict)+(look_back*2)+1:len(df1)-1, :] = test_predict\n",
        "# plot baseline and predictions\n",
        "plt.plot(scaler.inverse_transform(df1))\n",
        "plt.plot(trainPredictPlot)\n",
        "plt.plot(testPredictPlot)\n",
        "plt.show()"
      ]
    },
    {
      "cell_type": "code",
      "execution_count": 32,
      "metadata": {
        "id": "yJfguEM0tsK1"
      },
      "outputs": [
        {
          "data": {
            "image/png": "[encoded data removed]",
            "text/plain": [
              "<Figure size 432x288 with 1 Axes>"
            ]
          },
          "metadata": {
            "needs_background": "light"
          },
          "output_type": "display_data"
        }
      ],
      "source": [
        "### Plotting \n",
        "# for 20 epoch\n",
        "# shift train predictions for plotting\n",
        "look_back=100\n",
        "trainPredictPlot = numpy.empty_like(df1)\n",
        "trainPredictPlot[:, :] = np.nan\n",
        "trainPredictPlot[look_back:len(train_predict)+look_back, :] = train_predict\n",
        "# shift test predictions for plotting\n",
        "testPredictPlot = numpy.empty_like(df1)\n",
        "testPredictPlot[:, :] = numpy.nan\n",
        "testPredictPlot[len(train_predict)+(look_back*2)+1:len(df1)-1, :] = test_predict\n",
        "# plot baseline and predictions\n",
        "plt.plot(scaler.inverse_transform(df1))\n",
        "plt.plot(trainPredictPlot)\n",
        "plt.plot(testPredictPlot)\n",
        "plt.show()"
      ]
    },
    {
      "cell_type": "code",
      "execution_count": 40,
      "metadata": {},
      "outputs": [
        {
          "data": {
            "image/png": "[encoded data removed]",
            "text/plain": [
              "<Figure size 432x288 with 1 Axes>"
            ]
          },
          "metadata": {
            "needs_background": "light"
          },
          "output_type": "display_data"
        }
      ],
      "source": [
        "### Plotting \n",
        "# for 30 epoch\n",
        "# shift train predictions for plotting\n",
        "look_back=100\n",
        "trainPredictPlot = numpy.empty_like(df1)\n",
        "trainPredictPlot[:, :] = np.nan\n",
        "trainPredictPlot[look_back:len(train_predict)+look_back, :] = train_predict\n",
        "# shift test predictions for plotting\n",
        "testPredictPlot = numpy.empty_like(df1)\n",
        "testPredictPlot[:, :] = numpy.nan\n",
        "testPredictPlot[len(train_predict)+(look_back*2)+1:len(df1)-1, :] = test_predict\n",
        "# plot baseline and predictions\n",
        "plt.plot(scaler.inverse_transform(df1))\n",
        "plt.plot(trainPredictPlot)\n",
        "plt.plot(testPredictPlot)\n",
        "plt.show()"
      ]
    },
    {
      "cell_type": "code",
      "execution_count": 46,
      "metadata": {},
      "outputs": [
        {
          "data": {
            "image/png": "[encoded data removed]",
            "text/plain": [
              "<Figure size 432x288 with 1 Axes>"
            ]
          },
          "metadata": {
            "needs_background": "light"
          },
          "output_type": "display_data"
        }
      ],
      "source": [
        "### Plotting \n",
        "# for 40 epoch\n",
        "# shift train predictions for plotting\n",
        "look_back=100\n",
        "trainPredictPlot = numpy.empty_like(df1)\n",
        "trainPredictPlot[:, :] = np.nan\n",
        "trainPredictPlot[look_back:len(train_predict)+look_back, :] = train_predict\n",
        "# shift test predictions for plotting\n",
        "testPredictPlot = numpy.empty_like(df1)\n",
        "testPredictPlot[:, :] = numpy.nan\n",
        "testPredictPlot[len(train_predict)+(look_back*2)+1:len(df1)-1, :] = test_predict\n",
        "# plot baseline and predictions\n",
        "plt.plot(scaler.inverse_transform(df1))\n",
        "plt.plot(trainPredictPlot)\n",
        "plt.plot(testPredictPlot)\n",
        "plt.show()"
      ]
    }
  ],
  "metadata": {
    "colab": {
      "provenance": []
    },
    "kernelspec": {
      "display_name": "Python 3",
      "name": "python3"
    },
    "language_info": {
      "codemirror_mode": {
        "name": "ipython",
        "version": 3
      },
      "file_extension": ".py",
      "mimetype": "text/x-python",
      "name": "python",
      "nbconvert_exporter": "python",
      "pygments_lexer": "ipython3",
      "version": "3.10.2"
    }
  },
  "nbformat": 4,
  "nbformat_minor": 0
}
